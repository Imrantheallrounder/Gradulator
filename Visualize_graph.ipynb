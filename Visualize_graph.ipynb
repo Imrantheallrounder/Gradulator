{
 "cells": [
  {
   "cell_type": "code",
   "execution_count": 1,
   "id": "3cc57875",
   "metadata": {},
   "outputs": [],
   "source": [
    "import numpy as np\n",
    "import math\n",
    "import matplotlib.pyplot as plt\n",
    "%matplotlib inline"
   ]
  },
  {
   "cell_type": "code",
   "execution_count": 2,
   "id": "ad352eb8",
   "metadata": {},
   "outputs": [],
   "source": [
    "def f(x):\n",
    "    return 3*x**2 - 4*x + 5"
   ]
  },
  {
   "cell_type": "code",
   "execution_count": 3,
   "id": "304abb89",
   "metadata": {},
   "outputs": [
    {
     "data": {
      "image/png": "[encoded data removed]",
      "text/plain": [
       "<Figure size 300x300 with 1 Axes>"
      ]
     },
     "metadata": {},
     "output_type": "display_data"
    }
   ],
   "source": [
    "xs = np.arange(-5, 5, 0.25)\n",
    "y = f(xs)\n",
    "plt.figure(figsize=(3,3))\n",
    "plt.plot(xs, y)\n",
    "plt.grid(True)"
   ]
  },
  {
   "cell_type": "code",
   "execution_count": 4,
   "id": "d73cbf07",
   "metadata": {},
   "outputs": [
    {
     "data": {
      "text/plain": [
       "14.00300000000243"
      ]
     },
     "execution_count": 4,
     "metadata": {},
     "output_type": "execute_result"
    }
   ],
   "source": [
    "# derivative\n",
    "h = 0.001\n",
    "x = 3\n",
    "(f(x + h) - f(x))/h"
   ]
  },
  {
   "cell_type": "markdown",
   "id": "97670619",
   "metadata": {},
   "source": [
    "## Micrograd"
   ]
  },
  {
   "cell_type": "code",
   "execution_count": 5,
   "id": "30939c24",
   "metadata": {},
   "outputs": [
    {
     "data": {
      "text/plain": [
       "Value(data=4)"
      ]
     },
     "execution_count": 5,
     "metadata": {},
     "output_type": "execute_result"
    }
   ],
   "source": [
    "class Value:\n",
    "    def __init__(self, data, _children=(), _op='', label=''):\n",
    "        self.data = data\n",
    "        self._prev = set(_children)\n",
    "        self._op = _op\n",
    "        self.label = label\n",
    "        \n",
    "    def __repr__(self):\n",
    "        return f\"Value(data={self.data})\"\n",
    "    \n",
    "    def __add__(self, other):\n",
    "        out = Value(self.data + other.data, (self, other), '+')\n",
    "        return out\n",
    "    \n",
    "    def __mul__(self, other):\n",
    "        out = Value(self.data * other.data, (self, other), '*')\n",
    "        return out\n",
    "    \n",
    "        \n",
    "a = Value(2, label='a')\n",
    "b = Value(-3, label='b')\n",
    "c = Value(10, label='c')\n",
    "\n",
    "d = a * b + c\n",
    "d"
   ]
  },
  {
   "cell_type": "code",
   "execution_count": 6,
   "id": "ac2a45f7",
   "metadata": {},
   "outputs": [
    {
     "data": {
      "text/plain": [
       "{Value(data=-6), Value(data=10)}"
      ]
     },
     "execution_count": 6,
     "metadata": {},
     "output_type": "execute_result"
    }
   ],
   "source": [
    "d._prev"
   ]
  },
  {
   "cell_type": "code",
   "execution_count": 7,
   "id": "4be5e1f4",
   "metadata": {},
   "outputs": [
    {
     "data": {
      "text/plain": [
       "'+'"
      ]
     },
     "execution_count": 7,
     "metadata": {},
     "output_type": "execute_result"
    }
   ],
   "source": [
    "d._op"
   ]
  },
  {
   "cell_type": "code",
   "execution_count": 8,
   "id": "6692fe2a",
   "metadata": {},
   "outputs": [],
   "source": [
    "from graphviz import Digraph\n",
    "\n",
    "def trace(root):\n",
    "    nodes, edges = set(), set()\n",
    "    def build(v):\n",
    "        if v not in nodes:\n",
    "            nodes.add(v)\n",
    "            for child in v._prev:\n",
    "                edges.add((child, v))\n",
    "                build(child)\n",
    "    build(root)\n",
    "    return nodes, edges\n",
    "\n",
    "def draw_dot(root):\n",
    "#     assert rankdir in ['LR', 'TB']\n",
    "#     nodes, edges = trace(root)\n",
    "    dot = Digraph(format=\"svg\", graph_attr={'rankdir': \"LR\"}) #, node_attr={'rankdir': 'TB'})\n",
    "    nodes, edges = trace(root)\n",
    "    for n in nodes:\n",
    "        uid = str(id(n))\n",
    "        dot.node(name=uid, label = \"{ %s | Data %.4f }\" % (n.label, n.data), shape='record')\n",
    "        if n._op:\n",
    "            dot.node(name=uid + n._op, label=n._op)\n",
    "            dot.edge(uid + n._op, uid)\n",
    "            \n",
    "    for n1, n2 in edges:\n",
    "        dot.edge(str(id(n1)), str(id(n2)) + n2._op)\n",
    "    \n",
    "    return dot\n"
   ]
  },
  {
   "cell_type": "code",
   "execution_count": 9,
   "id": "a6b23aab",
   "metadata": {},
   "outputs": [
    {
     "data": {
      "image/svg+xml": [
       "<?xml version=\"1.0\" encoding=\"UTF-8\" standalone=\"no\"?>\n",
       "<!DOCTYPE svg PUBLIC \"-//W3C//DTD SVG 1.1//EN\"\n",
       " \"http://www.w3.org/Graphics/SVG/1.1/DTD/svg11.dtd\">\n",
       "<!-- Generated by graphviz version 10.0.1 (20240210.2158)\n",
       " -->\n",
       "<!-- Pages: 1 -->\n",
       "<svg width=\"586pt\" height=\"127pt\"\n",
       " viewBox=\"0.00 0.00 585.50 127.00\" xmlns=\"http://www.w3.org/2000/svg\" xmlns:xlink=\"http://www.w3.org/1999/xlink\">\n",
       "<g id=\"graph0\" class=\"graph\" transform=\"scale(1 1) rotate(0) translate(4 123)\">\n",
       "<polygon fill=\"white\" stroke=\"none\" points=\"-4,4 -4,-123 581.5,-123 581.5,4 -4,4\"/>\n",
       "<!-- 2257979193872 -->\n",
       "<g id=\"node1\" class=\"node\">\n",
       "<title>2257979193872</title>\n",
       "<polygon fill=\"none\" stroke=\"black\" points=\"475,-54.5 475,-90.5 577.5,-90.5 577.5,-54.5 475,-54.5\"/>\n",
       "<text text-anchor=\"middle\" x=\"484.88\" y=\"-67.2\" font-family=\"Times New Roman,serif\" font-size=\"14.00\"> </text>\n",
       "<polyline fill=\"none\" stroke=\"black\" points=\"494.75,-54.75 494.75,-90.5\"/>\n",
       "<text text-anchor=\"middle\" x=\"536.12\" y=\"-67.2\" font-family=\"Times New Roman,serif\" font-size=\"14.00\">Data 4.0000</text>\n",
       "</g>\n",
       "<!-- 2257979193872+ -->\n",
       "<g id=\"node2\" class=\"node\">\n",
       "<title>2257979193872+</title>\n",
       "<ellipse fill=\"none\" stroke=\"black\" cx=\"412\" cy=\"-72.5\" rx=\"27\" ry=\"18\"/>\n",
       "<text text-anchor=\"middle\" x=\"412\" y=\"-67.08\" font-family=\"Times New Roman,serif\" font-size=\"14.00\">+</text>\n",
       "</g>\n",
       "<!-- 2257979193872+&#45;&gt;2257979193872 -->\n",
       "<g id=\"edge1\" class=\"edge\">\n",
       "<title>2257979193872+&#45;&gt;2257979193872</title>\n",
       "<path fill=\"none\" stroke=\"black\" d=\"M439.32,-72.5C446.71,-72.5 455.07,-72.5 463.6,-72.5\"/>\n",
       "<polygon fill=\"black\" stroke=\"black\" points=\"463.33,-76 473.33,-72.5 463.33,-69 463.33,-76\"/>\n",
       "</g>\n",
       "<!-- 2257979437712 -->\n",
       "<g id=\"node3\" class=\"node\">\n",
       "<title>2257979437712</title>\n",
       "<polygon fill=\"none\" stroke=\"black\" points=\"236.75,-82.5 236.75,-118.5 349,-118.5 349,-82.5 236.75,-82.5\"/>\n",
       "<text text-anchor=\"middle\" x=\"248.12\" y=\"-95.2\" font-family=\"Times New Roman,serif\" font-size=\"14.00\">c</text>\n",
       "<polyline fill=\"none\" stroke=\"black\" points=\"259.5,-82.75 259.5,-118.5\"/>\n",
       "<text text-anchor=\"middle\" x=\"304.25\" y=\"-95.2\" font-family=\"Times New Roman,serif\" font-size=\"14.00\">Data 10.0000</text>\n",
       "</g>\n",
       "<!-- 2257979437712&#45;&gt;2257979193872+ -->\n",
       "<g id=\"edge4\" class=\"edge\">\n",
       "<title>2257979437712&#45;&gt;2257979193872+</title>\n",
       "<path fill=\"none\" stroke=\"black\" d=\"M349.35,-87.24C358.11,-85.14 366.96,-83.03 375.12,-81.08\"/>\n",
       "<polygon fill=\"black\" stroke=\"black\" points=\"375.73,-84.53 384.64,-78.8 374.1,-77.72 375.73,-84.53\"/>\n",
       "</g>\n",
       "<!-- 2257979430608 -->\n",
       "<g id=\"node4\" class=\"node\">\n",
       "<title>2257979430608</title>\n",
       "<polygon fill=\"none\" stroke=\"black\" points=\"3,-55.5 3,-91.5 107.75,-91.5 107.75,-55.5 3,-55.5\"/>\n",
       "<text text-anchor=\"middle\" x=\"14\" y=\"-68.2\" font-family=\"Times New Roman,serif\" font-size=\"14.00\">a</text>\n",
       "<polyline fill=\"none\" stroke=\"black\" points=\"25,-55.75 25,-91.5\"/>\n",
       "<text text-anchor=\"middle\" x=\"66.38\" y=\"-68.2\" font-family=\"Times New Roman,serif\" font-size=\"14.00\">Data 2.0000</text>\n",
       "</g>\n",
       "<!-- 2257979440464* -->\n",
       "<g id=\"node7\" class=\"node\">\n",
       "<title>2257979440464*</title>\n",
       "<ellipse fill=\"none\" stroke=\"black\" cx=\"173.75\" cy=\"-45.5\" rx=\"27\" ry=\"18\"/>\n",
       "<text text-anchor=\"middle\" x=\"173.75\" y=\"-40.08\" font-family=\"Times New Roman,serif\" font-size=\"14.00\">*</text>\n",
       "</g>\n",
       "<!-- 2257979430608&#45;&gt;2257979440464* -->\n",
       "<g id=\"edge5\" class=\"edge\">\n",
       "<title>2257979430608&#45;&gt;2257979440464*</title>\n",
       "<path fill=\"none\" stroke=\"black\" d=\"M108.1,-61.06C117.83,-58.71 127.8,-56.31 136.92,-54.12\"/>\n",
       "<polygon fill=\"black\" stroke=\"black\" points=\"137.54,-57.57 146.44,-51.83 135.9,-50.77 137.54,-57.57\"/>\n",
       "</g>\n",
       "<!-- 2257978696976 -->\n",
       "<g id=\"node5\" class=\"node\">\n",
       "<title>2257978696976</title>\n",
       "<polygon fill=\"none\" stroke=\"black\" points=\"0,-0.5 0,-36.5 110.75,-36.5 110.75,-0.5 0,-0.5\"/>\n",
       "<text text-anchor=\"middle\" x=\"11.75\" y=\"-13.2\" font-family=\"Times New Roman,serif\" font-size=\"14.00\">b</text>\n",
       "<polyline fill=\"none\" stroke=\"black\" points=\"23.5,-0.75 23.5,-36.5\"/>\n",
       "<text text-anchor=\"middle\" x=\"67.12\" y=\"-13.2\" font-family=\"Times New Roman,serif\" font-size=\"14.00\">Data &#45;3.0000</text>\n",
       "</g>\n",
       "<!-- 2257978696976&#45;&gt;2257979440464* -->\n",
       "<g id=\"edge3\" class=\"edge\">\n",
       "<title>2257978696976&#45;&gt;2257979440464*</title>\n",
       "<path fill=\"none\" stroke=\"black\" d=\"M111.15,-31.21C119.89,-33.24 128.73,-35.29 136.88,-37.18\"/>\n",
       "<polygon fill=\"black\" stroke=\"black\" points=\"135.85,-40.53 146.38,-39.38 137.43,-33.71 135.85,-40.53\"/>\n",
       "</g>\n",
       "<!-- 2257979440464 -->\n",
       "<g id=\"node6\" class=\"node\">\n",
       "<title>2257979440464</title>\n",
       "<polygon fill=\"none\" stroke=\"black\" points=\"239.38,-27.5 239.38,-63.5 346.38,-63.5 346.38,-27.5 239.38,-27.5\"/>\n",
       "<text text-anchor=\"middle\" x=\"249.25\" y=\"-40.2\" font-family=\"Times New Roman,serif\" font-size=\"14.00\"> </text>\n",
       "<polyline fill=\"none\" stroke=\"black\" points=\"259.12,-27.75 259.12,-63.5\"/>\n",
       "<text text-anchor=\"middle\" x=\"302.75\" y=\"-40.2\" font-family=\"Times New Roman,serif\" font-size=\"14.00\">Data &#45;6.0000</text>\n",
       "</g>\n",
       "<!-- 2257979440464&#45;&gt;2257979193872+ -->\n",
       "<g id=\"edge6\" class=\"edge\">\n",
       "<title>2257979440464&#45;&gt;2257979193872+</title>\n",
       "<path fill=\"none\" stroke=\"black\" d=\"M346.61,-57.66C356.15,-59.86 365.9,-62.1 374.84,-64.16\"/>\n",
       "<polygon fill=\"black\" stroke=\"black\" points=\"374.01,-67.57 384.54,-66.4 375.59,-60.74 374.01,-67.57\"/>\n",
       "</g>\n",
       "<!-- 2257979440464*&#45;&gt;2257979440464 -->\n",
       "<g id=\"edge2\" class=\"edge\">\n",
       "<title>2257979440464*&#45;&gt;2257979440464</title>\n",
       "<path fill=\"none\" stroke=\"black\" d=\"M201.04,-45.5C209.18,-45.5 218.53,-45.5 228.08,-45.5\"/>\n",
       "<polygon fill=\"black\" stroke=\"black\" points=\"227.79,-49 237.79,-45.5 227.79,-42 227.79,-49\"/>\n",
       "</g>\n",
       "</g>\n",
       "</svg>\n"
      ],
      "text/plain": [
       "<graphviz.graphs.Digraph at 0x20dba0b2c50>"
      ]
     },
     "execution_count": 9,
     "metadata": {},
     "output_type": "execute_result"
    }
   ],
   "source": [
    "draw_dot(d)"
   ]
  },
  {
   "cell_type": "code",
   "execution_count": null,
   "id": "3e631b0a",
   "metadata": {},
   "outputs": [],
   "source": []
  }
 ],
 "metadata": {
  "kernelspec": {
   "display_name": "Python 3 (ipykernel)",
   "language": "python",
   "name": "python3"
  },
  "language_info": {
   "codemirror_mode": {
    "name": "ipython",
    "version": 3
   },
   "file_extension": ".py",
   "mimetype": "text/x-python",
   "name": "python",
   "nbconvert_exporter": "python",
   "pygments_lexer": "ipython3",
   "version": "3.11.3"
  }
 },
 "nbformat": 4,
 "nbformat_minor": 5
}
